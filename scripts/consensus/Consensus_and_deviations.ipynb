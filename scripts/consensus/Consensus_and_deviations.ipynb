{
 "cells": [
  {
   "cell_type": "markdown",
   "metadata": {},
   "source": [
    "# Consensus and deviations builder script"
   ]
  },
  {
   "cell_type": "code",
   "execution_count": 52,
   "metadata": {},
   "outputs": [],
   "source": [
    "import numpy as np\n",
    "import pandas as pd\n",
    "from Bio import Seq\n",
    "import json"
   ]
  },
  {
   "cell_type": "markdown",
   "metadata": {},
   "source": [
    "## Script"
   ]
  },
  {
   "cell_type": "code",
   "execution_count": 69,
   "metadata": {},
   "outputs": [],
   "source": [
    "IUAPC_table = [\"A\",\"T\",\"C\",\"G\",\"U\",\"R\",\"Y\",\"K\",\"M\",\"S\",\"W\",\"B\",\"D\",\"H\",\"V\",\"N\",\"-\"]\n",
    "\n",
    "def dataframe_builder(seq_list):\n",
    "    \"\"\"\n",
    "    Given a list of sequences, output a pandas DataFrame with a column for every site\n",
    "    \n",
    "    Parameters:\n",
    "        seq_list : list of sequences (string). Be carefull, every sequences must have the same length\n",
    "    \n",
    "    Returns:\n",
    "        output : pandas Dataframe with each sequence and a column per site\n",
    "    \"\"\"\n",
    "    formated_seq_list = list(map(lambda s : list(s), seq_list))\n",
    "    return pd.DataFrame(formated_seq_list)\n",
    "\n",
    "def consensus_builder(seq_df):\n",
    "    \"\"\"\n",
    "    Given a pandas DataFrame containing the sequences, it will create the consensus sequence and the Minor Allele Frequency table\n",
    "    \n",
    "    Parameters:\n",
    "        seq_df : pandas Dataframe with each sequence and a column per site\n",
    "        \n",
    "    Returns:\n",
    "        consensus : consensus sequence(string)\n",
    "        maf_table : minor allele frequency table(dict) (an entry per site)\n",
    "    \"\"\"\n",
    "    consensus = \"\"\n",
    "    maf_table = dict()\n",
    "    seq_nb = seq_df.shape[0]\n",
    "    for c in seq_df.columns:\n",
    "        nucleotide_count = seq_df[c].value_counts()\n",
    "        consensus += nucleotide_count.index[0] ## !!! it may be biased because in case of equality we always take the first index -> randomize if equality?\n",
    "        nuc_dict = dict()\n",
    "        for nuc in IUAPC_table: ### !!! need to see how to handle new letters (R,N,...)\n",
    "            if nuc in nucleotide_count:\n",
    "                nuc_dict[nuc] = nucleotide_count.loc[nuc]/seq_nb\n",
    "            else:\n",
    "                nuc_dict[nuc] = 0.0\n",
    "        maf_table[c] = nuc_dict\n",
    "    return consensus, maf_table\n",
    "\n",
    "def observed_deviations_np_maf(seq_df,consensus,maf_table,coding,genetic_code,neighbours_nb=2):\n",
    "    \"\"\"\n",
    "    It will list all the observed deviations from consensus. The deviations are in the format : {Seq_ID,Pos,From,To,MAF},\n",
    "    where \"Seq_ID\" is the id of the sequence, \"Pos\" in the position in the sequence, \"From\" is the original value in the consensus, \"To\" is \n",
    "    the value in the sequence, \"MAF\" is the minor allele frequency.\n",
    "    \n",
    "    Parameters:\n",
    "        seq_df : pandas DataFrame with every sequences in a single column\n",
    "        consensus : consensus sequence (string)\n",
    "        maf_table : minor allele frequency table (dict)\n",
    "        neighbours_nb: number(int) of desired neighbours in the output, to the left and to the right (default : 2)\n",
    "    \n",
    "    Returns:\n",
    "        deviations : list of dictionnaries containing every deviations for the given sequence\n",
    "    \"\"\"\n",
    "    deviations = []\n",
    "    sequences = np.asarray([list(\"#\"*neighbours_nb+q.casefold()+\"#\"*neighbours_nb) for q in seq_df[\"Sequence\"]]) #pad sequences to take care of extremities\n",
    "    formated_consensus = \"#\"*neighbours_nb+consensus.casefold()+\"#\"*neighbours_nb\n",
    "    deviations_indices = np.where(sequences != list(formated_consensus))\n",
    "    start_indices = deviations_indices[1]-neighbours_nb # subsequence starting point\n",
    "    end_indices = deviations_indices[1]+neighbours_nb# subsequence ending point\n",
    "    columns_indices = np.arange(sequences.shape[1])\n",
    "    selection_mask = (start_indices[:,None] <= columns_indices) & (end_indices[:,None] >= columns_indices) #mask used for slicing the sequences\n",
    "    deviations_array = sequences[deviations_indices[0]][selection_mask].reshape(deviations_indices[0].shape[0],2*neighbours_nb+1) #take valid sequences and reshape to have constant output\n",
    "    deviations_subseq = [\"\".join(s) for s in deviations_array]   \n",
    "    deviations_subseq = list(map(lambda s : s[:neighbours_nb]+s[neighbours_nb:].capitalize(),deviations_subseq)) #format in ..xxXxx..\n",
    "    for i in range(len(deviations_subseq)):\n",
    "        seq_id = deviations_indices[0][i]\n",
    "        pos_in_seq = int(deviations_indices[1][i]-neighbours_nb) # the \"-\" is because of padding\n",
    "        origin_seq = formated_consensus[pos_in_seq:pos_in_seq+2*neighbours_nb+1]\n",
    "        origin_seq = origin_seq[:neighbours_nb]+origin_seq[neighbours_nb:].capitalize() #format in ..xxXxx..\n",
    "        dev_seq = deviations_subseq[i]\n",
    "        if coding:\n",
    "            codon_start = int(pos_in_seq/3)\n",
    "            original_codon = consensus[codon_start*3:(codon_start+1)*3].upper()\n",
    "            original_codon = original_codon.replace(\"-\",\"N\")\n",
    "            original_codon = original_codon.replace(\"#\",\"N\")\n",
    "            new_codon = \"\".join(sequences[seq_id][neighbours_nb+codon_start*3:neighbours_nb+(codon_start+1)*3]).upper()\n",
    "            new_codon = new_codon.replace(\"-\",\"N\")\n",
    "            new_codon = new_codon.replace(\"#\",\"N\")\n",
    "            aa_from = Seq.translate(original_codon,table=genetic_code)\n",
    "            aa_to = Seq.translate(new_codon,table=genetic_code)\n",
    "            synonymous = aa_from == aa_to\n",
    "            deviations.append({\"Seq_ID\" : int(seq_id), \"Codon_Pos\" : codon_start, \"Nucleotide_Pos\" : pos_in_seq, \"From\" : origin_seq, \"To\" : dev_seq, \"MAF\" : maf_table[pos_in_seq][dev_seq[neighbours_nb]], \"Amino_Acid_From\" : aa_from, \"Amino_Acid_To\" : aa_to, \"o_c\" : original_codon, \"n_c\" : new_codon, \"Synonymous\" : synonymous})\n",
    "        else:\n",
    "            deviations.append({\"Seq_ID\" : int(seq_id), \"Nucleotide_Pos\" : pos_in_seq, \"From\" : origin_seq, \"To\" : dev_seq, \"MAF\" : maf_table[pos_in_seq][dev_seq[neighbours_nb]]})\n",
    "    return deviations\n",
    "    \n",
    "\n",
    "def observed_deviations_df_maf(seq_df,consensus,maf_table,neighbours_nb=2):\n",
    "    \"\"\"\n",
    "    It will list all the observed deviations from consensus. The deviations are in the format : {Seq_ID,Pos,From,To,MAF},\n",
    "    where \"Seq_ID\" is the id of the sequence, \"Pos\" in the position in the sequence, \"From\" is the original value in the consensus, \"To\" is \n",
    "    the value in the sequence, \"MAF\" is the minor allele frequency.\n",
    "    \n",
    "    Parameters:\n",
    "        seq_df : pandas DataFrame with every sequences and a column per site\n",
    "        consensus : consensus sequence (string)\n",
    "        maf_table : minor allele frequency table (dict)\n",
    "        neighbours_nb: number(int) of desired neighbours in the output, to the left and to the right (default : 2)\n",
    "    \n",
    "    Returns:\n",
    "        deviations : list of dictionnaries containing every deviations for the given sequence\n",
    "    \"\"\"\n",
    "    deviations = []\n",
    "    for col in seq_df.columns:\n",
    "        col_deviations = seq_df[seq_df[col] != consensus[col]]\n",
    "        left_index = col-neighbours_nb if col-neighbours_nb >= 0 else 0\n",
    "        right_index = col+neighbours_nb+1 if col+neighbours_nb < seq_df.shape[1] else seq_df.shape[1]\n",
    "        deviations_candidates = col_deviations[list(range(left_index,right_index))] # we select only the sites that are close to the deviations site or the deviation site\n",
    "        if not deviations_candidates.empty:\n",
    "            deviations_list = deviations_candidates.to_numpy()\n",
    "            deviations_list = list(map(lambda c : \"\".join(c).casefold(),deviations_list))\n",
    "            deviations_list = list(map(lambda c : c[:col-right_index] + c[col-right_index:].capitalize(),deviations_list)) # we format the deviation in ..xxXxx.. where .. denote other possible neighbours\n",
    "            consensus_subset = consensus.casefold()[left_index:col] + consensus.casefold()[col:right_index].capitalize()\n",
    "            for dev in zip(deviations_candidates.index,deviations_list):\n",
    "                deviations.append({\"Seq_ID\" : dev[0], \"Pos\" : col, \"From\" : consensus_subset, \"To\" : dev[1], \"MAF\" : maf_table[col][dev[1][col-left_index]]})\n",
    "    return deviations\n",
    "\n",
    "\n",
    "def create_expected_deviations(consensus,genetic_code):\n",
    "    \"\"\"\n",
    "    Create the exèected deviations list based on the consensus sequence. The deviations are in the format : {Pos,From,To,MAF},\n",
    "    where \"Pos\" in the position in the consensus sequence, \"From\" is the original value in the consensus, \"To\" is \n",
    "    the value in the deviations, \"Synonymous\" indicates if the mutation is synonymous or not.\n",
    "    \n",
    "    Parameters:\n",
    "        consensus : consensus sequence (string)\n",
    "        genetic_code : NCBI genetic code id (int) (can be found in https://www.ncbi.nlm.nih.gov/Taxonomy/Utils/wprintgc.cgi)\n",
    "    \n",
    "    Returns:\n",
    "        deviations : list of dictionnaries containing every deviations from the consensus sequence\n",
    "    \"\"\"\n",
    "    deviations = []\n",
    "    for i in range(0,len(consensus),3):\n",
    "        for j in range(3):\n",
    "            nucleotide_list = [\"A\",\"T\",\"C\",\"G\"]\n",
    "            nucleotide_list.remove(consensus[i+j])\n",
    "            for nuc in nucleotide_list:\n",
    "                original_codon = consensus[i:i+3]\n",
    "                new_codon = consensus[i:i+j]+nuc+consensus[i+j+1:i+3]\n",
    "                synonymous = True\n",
    "                origin_translation = Seq.translate(original_codon,genetic_code)\n",
    "                new_translation = Seq.translate(new_codon,genetic_code)\n",
    "                if origin_translation != new_translation:\n",
    "                    synonymous = False\n",
    "                origin = consensus.casefold()\n",
    "                left_index = i+j-2 if i+j-2 >= 0 else 0\n",
    "                origin = origin[left_index:i+j]+origin[i+j:i+j+3].capitalize()\n",
    "                deviated = consensus.casefold()\n",
    "                deviated = deviated[left_index:i+j]+nuc+deviated[i+j+1:i+j+3]\n",
    "                deviation_dict = {\"Codon_Pos\" : i, \"Nucleotide_Pos\" : i+j, \"From\" : origin, \"To\" : deviated, \"Amino_Acid_From\" : origin_translation, \"Amino_Acid_To\" : new_translation, \"Synonymous\" : synonymous}\n",
    "                deviations.append(deviation_dict)\n",
    "    return deviations"
   ]
  },
  {
   "cell_type": "code",
   "execution_count": 70,
   "metadata": {},
   "outputs": [],
   "source": [
    "def sequence_loader(seq_file_name, log_file_name):\n",
    "    sequences_df = pd.read_csv(seq_file_name)\n",
    "    log_df = pd.read_csv(log_file_name)\n",
    "    deviations = {}\n",
    "    for query_id in log_df.index: # create deviations list per original queries\n",
    "        query_seqs = sequences_df[sequences_df[\"Control_ID\"] == query_id] \n",
    "        seqs_list = [q for q in query_seqs[\"Sequence\"]]\n",
    "        seqs_df = dataframe_builder(seqs_list)\n",
    "        consensus, maf_table = consensus_builder(seqs_df)\n",
    "        coding = log_df.loc[query_id][\"CDS\"] == 1\n",
    "        gen_code = log_df.loc[query_id][\"Code\"] \n",
    "        deviations_obs = observed_deviations_np_maf(query_seqs,consensus,maf_table,coding,gen_code)\n",
    "        deviations[int(query_id)] = {\"Consensus\" : consensus,\"Observed_Deviations\" : deviations_obs}\n",
    "        if coding:\n",
    "            expected_deviations = create_expected_deviations(consensus,gen_code)\n",
    "            deviations[int(query_id)][\"Expected_Deviations\"] = expected_deviations      \n",
    "    return deviations"
   ]
  },
  {
   "cell_type": "markdown",
   "metadata": {},
   "source": [
    "---"
   ]
  },
  {
   "cell_type": "markdown",
   "metadata": {},
   "source": [
    "## Test Section"
   ]
  },
  {
   "cell_type": "code",
   "execution_count": 71,
   "metadata": {
    "scrolled": false
   },
   "outputs": [],
   "source": [
    "mut_dict = sequence_loader(\"../blast_query/sequences.csv\",\"../blast_query/seq_log.csv\")"
   ]
  },
  {
   "cell_type": "code",
   "execution_count": 73,
   "metadata": {},
   "outputs": [],
   "source": [
    "with open(\"deviations.json\", \"w\") as dev_out_file:\n",
    "    json.dump(mut_dict, dev_out_file)"
   ]
  },
  {
   "cell_type": "code",
   "execution_count": 74,
   "metadata": {},
   "outputs": [],
   "source": [
    "with open(\"deviations.json\", \"r\") as dev_in_file:\n",
    "    data = json.load(dev_in_file)"
   ]
  },
  {
   "cell_type": "markdown",
   "metadata": {},
   "source": [
    "---"
   ]
  },
  {
   "cell_type": "markdown",
   "metadata": {},
   "source": [
    "### \"Numpy style\" observed deviations generator"
   ]
  },
  {
   "cell_type": "markdown",
   "metadata": {},
   "source": [
    "The algorithm takes as input a list containt every sequences (in string format) and works like this:\n",
    "\n",
    "1) First lower case the sequences and the consensus sequence and make a padding to the left and right with the required number of neighbours (because if we have mutations at position 0, then the two neighbours on the left are nothing, we use the convention \"#\". \n",
    "\n",
    "2) Then use numpy's function np.where to locate indices where the sequences differ from consensus  \n",
    "\n",
    "3) Use the columns indices which differs and make to arrays which will be used for slicing (thus we have position n to the left and n to the right, where n is the number of neighbours (here 2))  \n",
    "\n",
    "4) Use a mask to slice those columns (and in fact extract the sequences)  \n",
    "\n",
    "5) Reshape to make an array whose rows are the deviations string"
   ]
  },
  {
   "cell_type": "code",
   "execution_count": 221,
   "metadata": {},
   "outputs": [
    {
     "data": {
      "text/plain": [
       "['tccat', 'atgg-', 'gaaaa', 'aaaa-', 'aaa--']"
      ]
     },
     "execution_count": 221,
     "metadata": {},
     "output_type": "execute_result"
    }
   ],
   "source": [
    "# 1)\n",
    "test_seq_list = [\"ATCGATCG\",\"ATCCATGG\",\"ATCGAAAA\"]\n",
    "consensus_test = list(\"--\"+\"ATCGATCG\".casefold()+\"--\") # we use the first sequence as the consensus (valid only for this example)\n",
    "arr = np.asarray([list(\"--\"+s.casefold()+\"--\") for s in test_seq_list])\n",
    "# 2)\n",
    "not_eq = np.where(arr != consensus_test)\n",
    "# 3)\n",
    "start = not_eq[1]-2 # assume nb of neighbours = 2\n",
    "end = not_eq[1]+2\n",
    "col_test = np.arange(arr.shape[1])\n",
    "# 4)\n",
    "mask = (start[:,None] <= col_test) & (end[:,None] >= col_test)\n",
    "#5)\n",
    "out = arr[not_eq[0]][mask].reshape(5,5)\n",
    "[\"\".join(s) for s in out]"
   ]
  }
 ],
 "metadata": {
  "kernelspec": {
   "display_name": "Python 3",
   "language": "python",
   "name": "python3"
  },
  "language_info": {
   "codemirror_mode": {
    "name": "ipython",
    "version": 3
   },
   "file_extension": ".py",
   "mimetype": "text/x-python",
   "name": "python",
   "nbconvert_exporter": "python",
   "pygments_lexer": "ipython3",
   "version": "3.8.5"
  }
 },
 "nbformat": 4,
 "nbformat_minor": 4
}
